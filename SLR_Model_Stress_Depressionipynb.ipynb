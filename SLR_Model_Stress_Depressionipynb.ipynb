{
  "nbformat": 4,
  "nbformat_minor": 0,
  "metadata": {
    "colab": {
      "provenance": []
    },
    "kernelspec": {
      "name": "python3",
      "display_name": "Python 3"
    },
    "language_info": {
      "name": "python"
    }
  },
  "cells": [
    {
      "cell_type": "markdown",
      "source": [
        "# ***Problem Description***\n",
        "The dataset aims to explore the relationship between different factors and the levels of stress/depression among individuals. We have one target variable and 3 features.The target variable is a numerical representation of stress or depression levels, while the input variables are:\n",
        "\n",
        "- ***1.Lack of Work-Life Balance***: Measured on a scale from 1 to 10, where 1 indicates excellent balance and 10 indicates severe imbalance.\n",
        "\n",
        "- ***2.Unhealthy Food***: A scale from 1 to 10 representing the quality of diet, where 1 is very healthy and 10 is very unhealthy.\n",
        "\n",
        "- ***3.Financial Constraints:*** Rated from 1 to 10, where 1 signifies no financial issues and 10 signifies extreme financial stress.\n",
        "\n",
        "- ***4.Sleeplessness/Insomnia:*** A scale from 1 to 10, where 1 indicates good sleep and 10 indicates severe insomnia.\n",
        "\n",
        "This dataset consists of 50 entries, representing various hypothetical individuals, allowing for the analysis of how these lifestyle factors correlate with stress or depression levels."
      ],
      "metadata": {
        "id": "Ai1ZL92Yz4Ry"
      }
    },
    {
      "cell_type": "markdown",
      "source": [
        "***"
      ],
      "metadata": {
        "id": "dvfNcA4h0tX-"
      }
    },
    {
      "cell_type": "markdown",
      "source": [
        "## ***Importing Libraries***"
      ],
      "metadata": {
        "id": "FXGNbpXyLSYm"
      }
    },
    {
      "cell_type": "code",
      "execution_count": null,
      "metadata": {
        "id": "TkpAow-PFlGP"
      },
      "outputs": [],
      "source": [
        "import numpy as np\n",
        "import pandas as pd\n",
        "import matplotlib.pyplot as plt\n",
        "import seaborn as sns\n",
        "from sklearn import linear_model\n",
        "from sklearn.metrics import mean_squared_error, r2_score,mean_absolute_error,root_mean_squared_error\n",
        "from sklearn.model_selection import train_test_split\n"
      ]
    },
    {
      "cell_type": "markdown",
      "source": [
        "## ***Displaying the data***"
      ],
      "metadata": {
        "id": "SVk_w4wHLWkm"
      }
    },
    {
      "cell_type": "code",
      "source": [
        "df=pd.read_csv(\"/content/Stress_Depression.csv.csv\")"
      ],
      "metadata": {
        "id": "i9eIXkXWKBrO"
      },
      "execution_count": null,
      "outputs": []
    },
    {
      "cell_type": "code",
      "source": [
        "df.head(7)"
      ],
      "metadata": {
        "colab": {
          "base_uri": "https://localhost:8080/",
          "height": 269
        },
        "id": "rDRjoDJAKFy_",
        "outputId": "9fe80139-8920-4314-936e-0cabe218b90a"
      },
      "execution_count": null,
      "outputs": [
        {
          "output_type": "execute_result",
          "data": {
            "text/plain": [
              "   Lack of Work-Life Balance  Unhealthy Food  Financial Constraints  \\\n",
              "0                        7.5             8.2                    5.1   \n",
              "1                        4.0             6.5                    4.3   \n",
              "2                        9.1             7.3                    8.5   \n",
              "3                        3.2             5.0                    3.0   \n",
              "4                        6.8             9.0                    7.8   \n",
              "5                        5.4             6.2                    2.7   \n",
              "6                        8.7             7.9                    9.3   \n",
              "\n",
              "   Sleeplessness/Insomnia  Stress/Depression Level  \n",
              "0                     6.4                      7.3  \n",
              "1                     5.7                      5.1  \n",
              "2                     9.2                      8.6  \n",
              "3                     2.1                      4.0  \n",
              "4                     8.5                      8.4  \n",
              "5                     3.6                      4.5  \n",
              "6                     9.5                      9.1  "
            ],
            "text/html": [
              "\n",
              "  <div id=\"df-ec71065e-109b-4d75-813a-70aa4c78eb35\" class=\"colab-df-container\">\n",
              "    <div>\n",
              "<style scoped>\n",
              "    .dataframe tbody tr th:only-of-type {\n",
              "        vertical-align: middle;\n",
              "    }\n",
              "\n",
              "    .dataframe tbody tr th {\n",
              "        vertical-align: top;\n",
              "    }\n",
              "\n",
              "    .dataframe thead th {\n",
              "        text-align: right;\n",
              "    }\n",
              "</style>\n",
              "<table border=\"1\" class=\"dataframe\">\n",
              "  <thead>\n",
              "    <tr style=\"text-align: right;\">\n",
              "      <th></th>\n",
              "      <th>Lack of Work-Life Balance</th>\n",
              "      <th>Unhealthy Food</th>\n",
              "      <th>Financial Constraints</th>\n",
              "      <th>Sleeplessness/Insomnia</th>\n",
              "      <th>Stress/Depression Level</th>\n",
              "    </tr>\n",
              "  </thead>\n",
              "  <tbody>\n",
              "    <tr>\n",
              "      <th>0</th>\n",
              "      <td>7.5</td>\n",
              "      <td>8.2</td>\n",
              "      <td>5.1</td>\n",
              "      <td>6.4</td>\n",
              "      <td>7.3</td>\n",
              "    </tr>\n",
              "    <tr>\n",
              "      <th>1</th>\n",
              "      <td>4.0</td>\n",
              "      <td>6.5</td>\n",
              "      <td>4.3</td>\n",
              "      <td>5.7</td>\n",
              "      <td>5.1</td>\n",
              "    </tr>\n",
              "    <tr>\n",
              "      <th>2</th>\n",
              "      <td>9.1</td>\n",
              "      <td>7.3</td>\n",
              "      <td>8.5</td>\n",
              "      <td>9.2</td>\n",
              "      <td>8.6</td>\n",
              "    </tr>\n",
              "    <tr>\n",
              "      <th>3</th>\n",
              "      <td>3.2</td>\n",
              "      <td>5.0</td>\n",
              "      <td>3.0</td>\n",
              "      <td>2.1</td>\n",
              "      <td>4.0</td>\n",
              "    </tr>\n",
              "    <tr>\n",
              "      <th>4</th>\n",
              "      <td>6.8</td>\n",
              "      <td>9.0</td>\n",
              "      <td>7.8</td>\n",
              "      <td>8.5</td>\n",
              "      <td>8.4</td>\n",
              "    </tr>\n",
              "    <tr>\n",
              "      <th>5</th>\n",
              "      <td>5.4</td>\n",
              "      <td>6.2</td>\n",
              "      <td>2.7</td>\n",
              "      <td>3.6</td>\n",
              "      <td>4.5</td>\n",
              "    </tr>\n",
              "    <tr>\n",
              "      <th>6</th>\n",
              "      <td>8.7</td>\n",
              "      <td>7.9</td>\n",
              "      <td>9.3</td>\n",
              "      <td>9.5</td>\n",
              "      <td>9.1</td>\n",
              "    </tr>\n",
              "  </tbody>\n",
              "</table>\n",
              "</div>\n",
              "    <div class=\"colab-df-buttons\">\n",
              "\n",
              "  <div class=\"colab-df-container\">\n",
              "    <button class=\"colab-df-convert\" onclick=\"convertToInteractive('df-ec71065e-109b-4d75-813a-70aa4c78eb35')\"\n",
              "            title=\"Convert this dataframe to an interactive table.\"\n",
              "            style=\"display:none;\">\n",
              "\n",
              "  <svg xmlns=\"http://www.w3.org/2000/svg\" height=\"24px\" viewBox=\"0 -960 960 960\">\n",
              "    <path d=\"M120-120v-720h720v720H120Zm60-500h600v-160H180v160Zm220 220h160v-160H400v160Zm0 220h160v-160H400v160ZM180-400h160v-160H180v160Zm440 0h160v-160H620v160ZM180-180h160v-160H180v160Zm440 0h160v-160H620v160Z\"/>\n",
              "  </svg>\n",
              "    </button>\n",
              "\n",
              "  <style>\n",
              "    .colab-df-container {\n",
              "      display:flex;\n",
              "      gap: 12px;\n",
              "    }\n",
              "\n",
              "    .colab-df-convert {\n",
              "      background-color: #E8F0FE;\n",
              "      border: none;\n",
              "      border-radius: 50%;\n",
              "      cursor: pointer;\n",
              "      display: none;\n",
              "      fill: #1967D2;\n",
              "      height: 32px;\n",
              "      padding: 0 0 0 0;\n",
              "      width: 32px;\n",
              "    }\n",
              "\n",
              "    .colab-df-convert:hover {\n",
              "      background-color: #E2EBFA;\n",
              "      box-shadow: 0px 1px 2px rgba(60, 64, 67, 0.3), 0px 1px 3px 1px rgba(60, 64, 67, 0.15);\n",
              "      fill: #174EA6;\n",
              "    }\n",
              "\n",
              "    .colab-df-buttons div {\n",
              "      margin-bottom: 4px;\n",
              "    }\n",
              "\n",
              "    [theme=dark] .colab-df-convert {\n",
              "      background-color: #3B4455;\n",
              "      fill: #D2E3FC;\n",
              "    }\n",
              "\n",
              "    [theme=dark] .colab-df-convert:hover {\n",
              "      background-color: #434B5C;\n",
              "      box-shadow: 0px 1px 3px 1px rgba(0, 0, 0, 0.15);\n",
              "      filter: drop-shadow(0px 1px 2px rgba(0, 0, 0, 0.3));\n",
              "      fill: #FFFFFF;\n",
              "    }\n",
              "  </style>\n",
              "\n",
              "    <script>\n",
              "      const buttonEl =\n",
              "        document.querySelector('#df-ec71065e-109b-4d75-813a-70aa4c78eb35 button.colab-df-convert');\n",
              "      buttonEl.style.display =\n",
              "        google.colab.kernel.accessAllowed ? 'block' : 'none';\n",
              "\n",
              "      async function convertToInteractive(key) {\n",
              "        const element = document.querySelector('#df-ec71065e-109b-4d75-813a-70aa4c78eb35');\n",
              "        const dataTable =\n",
              "          await google.colab.kernel.invokeFunction('convertToInteractive',\n",
              "                                                    [key], {});\n",
              "        if (!dataTable) return;\n",
              "\n",
              "        const docLinkHtml = 'Like what you see? Visit the ' +\n",
              "          '<a target=\"_blank\" href=https://colab.research.google.com/notebooks/data_table.ipynb>data table notebook</a>'\n",
              "          + ' to learn more about interactive tables.';\n",
              "        element.innerHTML = '';\n",
              "        dataTable['output_type'] = 'display_data';\n",
              "        await google.colab.output.renderOutput(dataTable, element);\n",
              "        const docLink = document.createElement('div');\n",
              "        docLink.innerHTML = docLinkHtml;\n",
              "        element.appendChild(docLink);\n",
              "      }\n",
              "    </script>\n",
              "  </div>\n",
              "\n",
              "\n",
              "<div id=\"df-fb0c7c7f-1c26-475e-bfe8-274e234ded77\">\n",
              "  <button class=\"colab-df-quickchart\" onclick=\"quickchart('df-fb0c7c7f-1c26-475e-bfe8-274e234ded77')\"\n",
              "            title=\"Suggest charts\"\n",
              "            style=\"display:none;\">\n",
              "\n",
              "<svg xmlns=\"http://www.w3.org/2000/svg\" height=\"24px\"viewBox=\"0 0 24 24\"\n",
              "     width=\"24px\">\n",
              "    <g>\n",
              "        <path d=\"M19 3H5c-1.1 0-2 .9-2 2v14c0 1.1.9 2 2 2h14c1.1 0 2-.9 2-2V5c0-1.1-.9-2-2-2zM9 17H7v-7h2v7zm4 0h-2V7h2v10zm4 0h-2v-4h2v4z\"/>\n",
              "    </g>\n",
              "</svg>\n",
              "  </button>\n",
              "\n",
              "<style>\n",
              "  .colab-df-quickchart {\n",
              "      --bg-color: #E8F0FE;\n",
              "      --fill-color: #1967D2;\n",
              "      --hover-bg-color: #E2EBFA;\n",
              "      --hover-fill-color: #174EA6;\n",
              "      --disabled-fill-color: #AAA;\n",
              "      --disabled-bg-color: #DDD;\n",
              "  }\n",
              "\n",
              "  [theme=dark] .colab-df-quickchart {\n",
              "      --bg-color: #3B4455;\n",
              "      --fill-color: #D2E3FC;\n",
              "      --hover-bg-color: #434B5C;\n",
              "      --hover-fill-color: #FFFFFF;\n",
              "      --disabled-bg-color: #3B4455;\n",
              "      --disabled-fill-color: #666;\n",
              "  }\n",
              "\n",
              "  .colab-df-quickchart {\n",
              "    background-color: var(--bg-color);\n",
              "    border: none;\n",
              "    border-radius: 50%;\n",
              "    cursor: pointer;\n",
              "    display: none;\n",
              "    fill: var(--fill-color);\n",
              "    height: 32px;\n",
              "    padding: 0;\n",
              "    width: 32px;\n",
              "  }\n",
              "\n",
              "  .colab-df-quickchart:hover {\n",
              "    background-color: var(--hover-bg-color);\n",
              "    box-shadow: 0 1px 2px rgba(60, 64, 67, 0.3), 0 1px 3px 1px rgba(60, 64, 67, 0.15);\n",
              "    fill: var(--button-hover-fill-color);\n",
              "  }\n",
              "\n",
              "  .colab-df-quickchart-complete:disabled,\n",
              "  .colab-df-quickchart-complete:disabled:hover {\n",
              "    background-color: var(--disabled-bg-color);\n",
              "    fill: var(--disabled-fill-color);\n",
              "    box-shadow: none;\n",
              "  }\n",
              "\n",
              "  .colab-df-spinner {\n",
              "    border: 2px solid var(--fill-color);\n",
              "    border-color: transparent;\n",
              "    border-bottom-color: var(--fill-color);\n",
              "    animation:\n",
              "      spin 1s steps(1) infinite;\n",
              "  }\n",
              "\n",
              "  @keyframes spin {\n",
              "    0% {\n",
              "      border-color: transparent;\n",
              "      border-bottom-color: var(--fill-color);\n",
              "      border-left-color: var(--fill-color);\n",
              "    }\n",
              "    20% {\n",
              "      border-color: transparent;\n",
              "      border-left-color: var(--fill-color);\n",
              "      border-top-color: var(--fill-color);\n",
              "    }\n",
              "    30% {\n",
              "      border-color: transparent;\n",
              "      border-left-color: var(--fill-color);\n",
              "      border-top-color: var(--fill-color);\n",
              "      border-right-color: var(--fill-color);\n",
              "    }\n",
              "    40% {\n",
              "      border-color: transparent;\n",
              "      border-right-color: var(--fill-color);\n",
              "      border-top-color: var(--fill-color);\n",
              "    }\n",
              "    60% {\n",
              "      border-color: transparent;\n",
              "      border-right-color: var(--fill-color);\n",
              "    }\n",
              "    80% {\n",
              "      border-color: transparent;\n",
              "      border-right-color: var(--fill-color);\n",
              "      border-bottom-color: var(--fill-color);\n",
              "    }\n",
              "    90% {\n",
              "      border-color: transparent;\n",
              "      border-bottom-color: var(--fill-color);\n",
              "    }\n",
              "  }\n",
              "</style>\n",
              "\n",
              "  <script>\n",
              "    async function quickchart(key) {\n",
              "      const quickchartButtonEl =\n",
              "        document.querySelector('#' + key + ' button');\n",
              "      quickchartButtonEl.disabled = true;  // To prevent multiple clicks.\n",
              "      quickchartButtonEl.classList.add('colab-df-spinner');\n",
              "      try {\n",
              "        const charts = await google.colab.kernel.invokeFunction(\n",
              "            'suggestCharts', [key], {});\n",
              "      } catch (error) {\n",
              "        console.error('Error during call to suggestCharts:', error);\n",
              "      }\n",
              "      quickchartButtonEl.classList.remove('colab-df-spinner');\n",
              "      quickchartButtonEl.classList.add('colab-df-quickchart-complete');\n",
              "    }\n",
              "    (() => {\n",
              "      let quickchartButtonEl =\n",
              "        document.querySelector('#df-fb0c7c7f-1c26-475e-bfe8-274e234ded77 button');\n",
              "      quickchartButtonEl.style.display =\n",
              "        google.colab.kernel.accessAllowed ? 'block' : 'none';\n",
              "    })();\n",
              "  </script>\n",
              "</div>\n",
              "\n",
              "    </div>\n",
              "  </div>\n"
            ],
            "application/vnd.google.colaboratory.intrinsic+json": {
              "type": "dataframe",
              "variable_name": "df",
              "summary": "{\n  \"name\": \"df\",\n  \"rows\": 51,\n  \"fields\": [\n    {\n      \"column\": \"Lack of Work-Life Balance\",\n      \"properties\": {\n        \"dtype\": \"number\",\n        \"std\": 2.5257140322192098,\n        \"min\": 1.0,\n        \"max\": 9.4,\n        \"num_unique_values\": 51,\n        \"samples\": [\n          2.5,\n          8.5,\n          3.9\n        ],\n        \"semantic_type\": \"\",\n        \"description\": \"\"\n      }\n    },\n    {\n      \"column\": \"Unhealthy Food\",\n      \"properties\": {\n        \"dtype\": \"number\",\n        \"std\": 2.3600913907196515,\n        \"min\": 1.1,\n        \"max\": 9.5,\n        \"num_unique_values\": 50,\n        \"samples\": [\n          5.1,\n          2.7,\n          8.3\n        ],\n        \"semantic_type\": \"\",\n        \"description\": \"\"\n      }\n    },\n    {\n      \"column\": \"Financial Constraints\",\n      \"properties\": {\n        \"dtype\": \"number\",\n        \"std\": 2.531269541197871,\n        \"min\": 1.3,\n        \"max\": 9.5,\n        \"num_unique_values\": 51,\n        \"samples\": [\n          1.6,\n          9.0,\n          3.4\n        ],\n        \"semantic_type\": \"\",\n        \"description\": \"\"\n      }\n    },\n    {\n      \"column\": \"Sleeplessness/Insomnia\",\n      \"properties\": {\n        \"dtype\": \"number\",\n        \"std\": 2.6135033958271414,\n        \"min\": 1.0,\n        \"max\": 9.5,\n        \"num_unique_values\": 50,\n        \"samples\": [\n          4.8,\n          2.6,\n          4.9\n        ],\n        \"semantic_type\": \"\",\n        \"description\": \"\"\n      }\n    },\n    {\n      \"column\": \"Stress/Depression Level\",\n      \"properties\": {\n        \"dtype\": \"number\",\n        \"std\": 2.2310764130312335,\n        \"min\": 2.0,\n        \"max\": 9.3,\n        \"num_unique_values\": 47,\n        \"samples\": [\n          2.4,\n          5.7,\n          3.3\n        ],\n        \"semantic_type\": \"\",\n        \"description\": \"\"\n      }\n    }\n  ]\n}"
            }
          },
          "metadata": {},
          "execution_count": 23
        }
      ]
    },
    {
      "cell_type": "code",
      "source": [
        "df.info()"
      ],
      "metadata": {
        "id": "y-rlLSrEKHS-",
        "colab": {
          "base_uri": "https://localhost:8080/"
        },
        "outputId": "af4f1862-04a7-443e-a0ed-2bb457a06204"
      },
      "execution_count": null,
      "outputs": [
        {
          "output_type": "stream",
          "name": "stdout",
          "text": [
            "<class 'pandas.core.frame.DataFrame'>\n",
            "RangeIndex: 51 entries, 0 to 50\n",
            "Data columns (total 5 columns):\n",
            " #   Column                     Non-Null Count  Dtype  \n",
            "---  ------                     --------------  -----  \n",
            " 0   Lack of Work-Life Balance  51 non-null     float64\n",
            " 1   Unhealthy Food             51 non-null     float64\n",
            " 2   Financial Constraints      51 non-null     float64\n",
            " 3   Sleeplessness/Insomnia     51 non-null     float64\n",
            " 4   Stress/Depression Level    51 non-null     float64\n",
            "dtypes: float64(5)\n",
            "memory usage: 2.1 KB\n"
          ]
        }
      ]
    },
    {
      "cell_type": "markdown",
      "source": [
        "### ***INSIGHTS FROM DATASET***\n",
        "- Our data has no null value\n",
        "- It has 5 columns (4 input features and 1 target variable)\n",
        "- It has 50 entries\n",
        "***"
      ],
      "metadata": {
        "id": "Mpet1nnsLghW"
      }
    },
    {
      "cell_type": "markdown",
      "source": [
        "## ***EXPLORATORY DATA ANALYSIS***"
      ],
      "metadata": {
        "id": "i-SHIS-4L6hP"
      }
    },
    {
      "cell_type": "code",
      "source": [
        "# Converting the features and target variable into numpy array and saving them in relevant variables"
      ],
      "metadata": {
        "id": "3hdCU_PoREuu"
      },
      "execution_count": null,
      "outputs": []
    },
    {
      "cell_type": "code",
      "source": [
        "Work_Life=np.array(df['Lack of Work-Life Balance'])"
      ],
      "metadata": {
        "id": "DVtmc7vULdrH"
      },
      "execution_count": null,
      "outputs": []
    },
    {
      "cell_type": "code",
      "source": [
        "Unhealthy_Food=np.array(df['Unhealthy Food'])"
      ],
      "metadata": {
        "id": "bJC_usFEMIRo"
      },
      "execution_count": null,
      "outputs": []
    },
    {
      "cell_type": "code",
      "source": [
        "financial_constraints=np.array(df['Financial Constraints'])"
      ],
      "metadata": {
        "id": "keFrGuvq3xJA"
      },
      "execution_count": null,
      "outputs": []
    },
    {
      "cell_type": "code",
      "source": [
        "Sleeplessness_Insomnia\t=np.array(df['Sleeplessness/Insomnia'])"
      ],
      "metadata": {
        "id": "XfWYU5XPMQ_-"
      },
      "execution_count": null,
      "outputs": []
    },
    {
      "cell_type": "code",
      "source": [
        "\n",
        "Stress_Depression_Level=np.array(df['Stress/Depression Level'])"
      ],
      "metadata": {
        "id": "HCfzvpFEMXM4"
      },
      "execution_count": null,
      "outputs": []
    },
    {
      "cell_type": "markdown",
      "source": [
        "## ***Visualizing the correlation between feature variable \"Work life balance\" and target variable \"Stress/Depression level\"***"
      ],
      "metadata": {
        "id": "gclJIRk8Mh4O"
      }
    },
    {
      "cell_type": "code",
      "source": [
        "plt.scatter(Work_Life,Stress_Depression_Level)\n",
        "plt.xlabel(\"Work Life Balance\")\n",
        "plt.ylabel(\"Stress/Depression Level\")\n",
        "plt.title(\"Work Life Balance vs Stress/Depression Level\")"
      ],
      "metadata": {
        "colab": {
          "base_uri": "https://localhost:8080/",
          "height": 489
        },
        "id": "NtvT30DkMgO_",
        "outputId": "b064c90b-3749-4c16-ffe5-c71419789378"
      },
      "execution_count": null,
      "outputs": [
        {
          "output_type": "execute_result",
          "data": {
            "text/plain": [
              "Text(0.5, 1.0, 'Work Life Balance vs Stress/Depression Level')"
            ]
          },
          "metadata": {},
          "execution_count": 31
        },
        {
          "output_type": "display_data",
          "data": {
            "text/plain": [
              "<Figure size 640x480 with 1 Axes>"
            ],
            "image/png": "[encoded data removed]"
          },
          "metadata": {}
        }
      ]
    },
    {
      "cell_type": "markdown",
      "source": [
        "### ***INSIGHTS FROM SCATTER PLOT***\n",
        "- The scatter plot of Work-Life balance vs Stress/Depression Level shows a strong positive correlation between the two variables. This means that individuals with a higher lack of work-life balance tend to have higher levels of stress or depression.\n",
        "***"
      ],
      "metadata": {
        "id": "-8eTF1ojNf3H"
      }
    },
    {
      "cell_type": "markdown",
      "source": [
        "## ***Visualizing the correlation between feature variable \"Unhealthy food\" and target variable \"Stress/Depression level\"***"
      ],
      "metadata": {
        "id": "FrCq69mvMtbG"
      }
    },
    {
      "cell_type": "code",
      "source": [
        "plt.scatter(Unhealthy_Food,Stress_Depression_Level)\n",
        "plt.xlabel(\"Unhealthy Food\")\n",
        "plt.ylabel(\"Stress/Depression Level\")\n",
        "plt.title(\"Unhealthy Food vs Stress/Depression Level\")"
      ],
      "metadata": {
        "colab": {
          "base_uri": "https://localhost:8080/",
          "height": 489
        },
        "id": "PwNym4RZMycW",
        "outputId": "4caaf230-a1e3-4965-cf6c-2ff1b316bd1a"
      },
      "execution_count": null,
      "outputs": [
        {
          "output_type": "execute_result",
          "data": {
            "text/plain": [
              "Text(0.5, 1.0, 'Unhealthy Food vs Stress/Depression Level')"
            ]
          },
          "metadata": {},
          "execution_count": 32
        },
        {
          "output_type": "display_data",
          "data": {
            "text/plain": [
              "<Figure size 640x480 with 1 Axes>"
            ],
            "image/png": "[encoded data removed]"
          },
          "metadata": {}
        }
      ]
    },
    {
      "cell_type": "markdown",
      "source": [
        "### ***INSIGHTS FROM SCATTER PLOT***\n",
        "- From the above scatter plot,it is clear that is also a positive correlation between Unhealthy food and level of stress/depression in an individual.This suggests that as consumption of unhealthy food increases the level of stress/depression also increases.\n",
        "***"
      ],
      "metadata": {
        "id": "2L8pJblANvF-"
      }
    },
    {
      "cell_type": "markdown",
      "source": [
        "## ***Visualizing the correlation between feature variable \"Financial Constraints\" and target variable \"Stress/Depression level\"***"
      ],
      "metadata": {
        "id": "BRPw2mEhM1SV"
      }
    },
    {
      "cell_type": "code",
      "source": [
        "plt.scatter(financial_constraints,Stress_Depression_Level)\n",
        "plt.xlabel(\"Financial Constraints\")\n",
        "plt.ylabel(\"Stress/Depression Level\")\n",
        "plt.title(\"Financial Constraints vs Stress/Depression Level\")"
      ],
      "metadata": {
        "colab": {
          "base_uri": "https://localhost:8080/",
          "height": 489
        },
        "id": "O1dQH15x6xsL",
        "outputId": "922d6595-21d0-47e7-ee49-816348f4c254"
      },
      "execution_count": null,
      "outputs": [
        {
          "output_type": "execute_result",
          "data": {
            "text/plain": [
              "Text(0.5, 1.0, 'Financial Constraints vs Stress/Depression Level')"
            ]
          },
          "metadata": {},
          "execution_count": 33
        },
        {
          "output_type": "display_data",
          "data": {
            "text/plain": [
              "<Figure size 640x480 with 1 Axes>"
            ],
            "image/png": "[encoded data removed]"
          },
          "metadata": {}
        }
      ]
    },
    {
      "cell_type": "markdown",
      "source": [
        "### ***INSIGHTS FROM PLOT***\n",
        "- The scatter plot of Financial Constraints vs Stress/Depression Level also shows a positive correlation, similar to the Work_Life and Unhealthy_Food plots. This tells that financial constraints also contribute to increased stress and depression levels.\n",
        "***"
      ],
      "metadata": {
        "id": "UvVAhLRdN9EW"
      }
    },
    {
      "cell_type": "markdown",
      "source": [
        "## ***Visualizing the correlation between feature variable \"Sleeplessness\" and target variable \"Stress/Depression level\"***"
      ],
      "metadata": {
        "id": "M8Md_gjH72A8"
      }
    },
    {
      "cell_type": "code",
      "source": [
        "plt.scatter(Sleeplessness_Insomnia,Stress_Depression_Level)\n",
        "plt.xlabel(\"Sleeplessness/Insomnia\")\n",
        "plt.ylabel(\"Stress/Depression Level\")\n",
        "plt.title(\"Sleeplessness_Insomnia vs Stress/Depression Level\")"
      ],
      "metadata": {
        "colab": {
          "base_uri": "https://localhost:8080/",
          "height": 489
        },
        "id": "9Hs6eUNN8Hrz",
        "outputId": "f4a7a394-bfb2-4fc7-eefe-952506db5d03"
      },
      "execution_count": null,
      "outputs": [
        {
          "output_type": "execute_result",
          "data": {
            "text/plain": [
              "Text(0.5, 1.0, 'Sleeplessness_Insomnia vs Stress/Depression Level')"
            ]
          },
          "metadata": {},
          "execution_count": 34
        },
        {
          "output_type": "display_data",
          "data": {
            "text/plain": [
              "<Figure size 640x480 with 1 Axes>"
            ],
            "image/png": "[encoded data removed]"
          },
          "metadata": {}
        }
      ]
    },
    {
      "cell_type": "markdown",
      "source": [
        "### ***INSIGHTS FROM SCATTER***\n",
        "- The scatter plot of Sleeplessness vs Stress/Depression Level again also shows a positive correlation, similar to the Work_Life and Unhealthy_Food and financial constraints plots. This tells that lack of proper sleep also contribute to increased stress and depression levels."
      ],
      "metadata": {
        "id": "L7O1bikQ8dfw"
      }
    },
    {
      "cell_type": "markdown",
      "source": [
        "***"
      ],
      "metadata": {
        "id": "Wfsr6Cxf8wC4"
      }
    },
    {
      "cell_type": "markdown",
      "source": [
        "## ***Generating heatmap to observe correlation***"
      ],
      "metadata": {
        "id": "G7nwr_ZSOPVm"
      }
    },
    {
      "cell_type": "code",
      "source": [
        "corr=df.corr()"
      ],
      "metadata": {
        "id": "A0BVtaioN6mO"
      },
      "execution_count": null,
      "outputs": []
    },
    {
      "cell_type": "code",
      "source": [
        "sns.heatmap(corr,annot=True)"
      ],
      "metadata": {
        "colab": {
          "base_uri": "https://localhost:8080/",
          "height": 618
        },
        "id": "If39CrRYOIvn",
        "outputId": "54ab5cbe-14ab-49e3-cc07-d94307ce4d77"
      },
      "execution_count": null,
      "outputs": [
        {
          "output_type": "execute_result",
          "data": {
            "text/plain": [
              "<Axes: >"
            ]
          },
          "metadata": {},
          "execution_count": 36
        },
        {
          "output_type": "display_data",
          "data": {
            "text/plain": [
              "<Figure size 640x480 with 2 Axes>"
            ],
            "image/png": "[encoded data removed]"
          },
          "metadata": {}
        }
      ]
    },
    {
      "cell_type": "markdown",
      "source": [
        "### ***INSIGHTS FROM HEATMAP***\n",
        "- By observing the correlation between 3 input feature varialbes and target variable, we can see that Unhealthy food shows least correlation (0.83) compared to other three features i.e lack of work-life balance (0.96),Financial Constraints(0.93) and Sleeplessness(0.96).Therefore in feature engineering step,feature \"Unhealthy food\" can be discarded."
      ],
      "metadata": {
        "id": "UH0-OAvy9qpM"
      }
    },
    {
      "cell_type": "markdown",
      "source": [
        "***\n",
        "## ***Preparing data for Machine learning model***"
      ],
      "metadata": {
        "id": "JE1_8x1fOYEn"
      }
    },
    {
      "cell_type": "code",
      "source": [
        "X=df.drop(['Stress/Depression Level'],axis=1)\n",
        "y=df['Stress/Depression Level']"
      ],
      "metadata": {
        "id": "dF8YuHCUOKnH"
      },
      "execution_count": null,
      "outputs": []
    },
    {
      "cell_type": "markdown",
      "source": [
        "### ***Splitting the data into train and test data***"
      ],
      "metadata": {
        "id": "63AjUmOVOowd"
      }
    },
    {
      "cell_type": "code",
      "source": [
        "# Keeping the ratio of train/test to be 80% and 20%\n",
        "X_train,X_test,y_train,y_test=train_test_split(X,y,test_size=0.2,random_state=0)\n"
      ],
      "metadata": {
        "id": "lU8aDrKzOkUP"
      },
      "execution_count": null,
      "outputs": []
    },
    {
      "cell_type": "markdown",
      "source": [
        "***\n",
        "## ***Training the model***"
      ],
      "metadata": {
        "id": "XiozgLCkPHcG"
      }
    },
    {
      "cell_type": "code",
      "source": [
        "lr=linear_model.LinearRegression()"
      ],
      "metadata": {
        "id": "3i1f84EyOz63"
      },
      "execution_count": null,
      "outputs": []
    },
    {
      "cell_type": "code",
      "source": [
        "model=lr.fit(X_train,y_train)"
      ],
      "metadata": {
        "id": "ds_sm679PCoX"
      },
      "execution_count": null,
      "outputs": []
    },
    {
      "cell_type": "markdown",
      "source": [
        "### ***Predicting the target variable***"
      ],
      "metadata": {
        "id": "VokI2si5PMLW"
      }
    },
    {
      "cell_type": "code",
      "source": [
        "y_pred=model.predict(X_test)"
      ],
      "metadata": {
        "id": "JTX22tPjPPQm"
      },
      "execution_count": null,
      "outputs": []
    },
    {
      "cell_type": "code",
      "source": [
        "y_pred"
      ],
      "metadata": {
        "colab": {
          "base_uri": "https://localhost:8080/"
        },
        "id": "noNeADLPP722",
        "outputId": "50e65c27-78e3-4eee-ec9a-d33036fa548d"
      },
      "execution_count": null,
      "outputs": [
        {
          "output_type": "execute_result",
          "data": {
            "text/plain": [
              "array([7.03169794, 4.19202185, 7.23888144, 8.94386457, 8.83391028,\n",
              "       5.1197899 , 7.06929637, 6.43900022, 3.11997925, 7.56089213,\n",
              "       8.74845187])"
            ]
          },
          "metadata": {},
          "execution_count": 42
        }
      ]
    },
    {
      "cell_type": "markdown",
      "source": [
        "***\n",
        "## ***MODEL EVALUATION***"
      ],
      "metadata": {
        "id": "Avw4p43aPabt"
      }
    },
    {
      "cell_type": "markdown",
      "source": [
        "### ***R2_SCORE***"
      ],
      "metadata": {
        "id": "A8SKxUwiPlk0"
      }
    },
    {
      "cell_type": "code",
      "source": [
        "R2=r2_score(y_test,y_pred)\n",
        "print(\" R2 score of our model is:\",R2)"
      ],
      "metadata": {
        "colab": {
          "base_uri": "https://localhost:8080/"
        },
        "id": "YeD5Z7qSPRdt",
        "outputId": "e1f56482-7f05-45e9-ef71-ed57cf25d2ae"
      },
      "execution_count": null,
      "outputs": [
        {
          "output_type": "stream",
          "name": "stdout",
          "text": [
            " R2 score of our model is: 0.9568956916206901\n"
          ]
        }
      ]
    },
    {
      "cell_type": "markdown",
      "source": [
        "### ***Mean Squared Error***"
      ],
      "metadata": {
        "id": "HoFBXuMWPoOV"
      }
    },
    {
      "cell_type": "code",
      "source": [
        "mse=mean_squared_error(y_test,y_pred)\n",
        "print(\" Mean Squared Error of our model is:\",mse)"
      ],
      "metadata": {
        "colab": {
          "base_uri": "https://localhost:8080/"
        },
        "id": "O6-ttzVmPf3m",
        "outputId": "940bfc15-e0ef-48c1-ab10-58dc604cf079"
      },
      "execution_count": null,
      "outputs": [
        {
          "output_type": "stream",
          "name": "stdout",
          "text": [
            " Mean Squared Error of our model is: 0.13685796027407673\n"
          ]
        }
      ]
    },
    {
      "cell_type": "markdown",
      "source": [
        "### ***Mean Absolute Error***"
      ],
      "metadata": {
        "id": "mEILucZwW5Yp"
      }
    },
    {
      "cell_type": "code",
      "source": [
        "mse=mean_absolute_error(y_test,y_pred)\n",
        "print(\" Mean Absolute Error of our model is:\",mse)"
      ],
      "metadata": {
        "colab": {
          "base_uri": "https://localhost:8080/"
        },
        "id": "jYcf4ztPW475",
        "outputId": "7fbed472-34d0-4e0b-d007-445d24f6238b"
      },
      "execution_count": null,
      "outputs": [
        {
          "output_type": "stream",
          "name": "stdout",
          "text": [
            " Mean Absolute Error of our model is: 0.3014105287880923\n"
          ]
        }
      ]
    },
    {
      "cell_type": "markdown",
      "source": [
        "### ***Root Mean Squared Error***"
      ],
      "metadata": {
        "id": "3YD5VPSBXZZG"
      }
    },
    {
      "cell_type": "code",
      "source": [
        "rmse=root_mean_squared_error(y_test,y_pred)\n",
        "print(\" Root Mean Squared Error of our model is:\",rmse)"
      ],
      "metadata": {
        "colab": {
          "base_uri": "https://localhost:8080/"
        },
        "id": "hDE2GvyYXgKO",
        "outputId": "e9b7cdea-5f85-48a8-c88e-49e7a8ea134f"
      },
      "execution_count": null,
      "outputs": [
        {
          "output_type": "stream",
          "name": "stdout",
          "text": [
            " Root Mean Squared Error of our model is: 0.3699431851975067\n"
          ]
        }
      ]
    },
    {
      "cell_type": "markdown",
      "source": [
        "***\n",
        "## ***Discussion regarding Model performance***\n",
        "\n",
        "- ***R² Score: 0.9569***\n",
        "- An R² score of our model is approximately 0.95,which shows that about 95.7% of the variability in stress or depression levels is explained by the input variables (lack of work-life balance, unhealthy food, financial constraints, and sleeplessness/insomnia).\n",
        "- This tells a strong fit between the model and the data, shows the feature variables are capturing the underlying patterns related to mental health issues effectively.\n",
        "\n",
        "\n",
        "***\n",
        "- ***Mean Squared Error (MSE): 0.1369***\n",
        "\n",
        "- The MSE quantifies the average of the squares of the errors (the average squared difference between the predicted and actual values).\n",
        "- A lower MSE of our model shows better model performance.Which suggests that the predictions made by our model are close to the actual values.\n",
        "\n",
        "***\n",
        "\n",
        "- ***Mean Absolute Error (MAE): 0.3014***\n",
        "\n",
        "- The MAE measures the average absolute errors between predicted and actual values.It gives a straightforward interpretation of prediction accuracy.\n",
        "- A MAE of 0.3014 indicates that, on average, the model's predictions are off by about 0.30 units on the scale used for stress or depression levels.\n",
        "\n",
        "***\n",
        "- ***Root Mean Squared Error (RMSE): 0.3699***\n",
        "\n",
        "- The RMSE is the square root of the MSE, providing error measurement in the same units as the target variable. A RMSE of approximately 0.37 suggests that there is a moderate level of prediction error.\n",
        "\n"
      ],
      "metadata": {
        "id": "rU9UZO2-Rp1v"
      }
    },
    {
      "cell_type": "markdown",
      "source": [
        "***\n",
        "## ***Summary***\n",
        "In summary, the high R² score indicates a strong relationship between the feature variables and the target variable, suggesting effective use of the model for understanding stress and depression. The other metrics (MSE, MAE, and RMSE) also show that the model’s predictions are quite accurate. Stakeholders can use these insights to prioritize health initiatives focused on improving work-life balance, dietary habits, financial management, and sleep quality to reduce stress and depression in populations.\n",
        "\n",
        "***\n"
      ],
      "metadata": {
        "id": "XjYgSj7DRnW-"
      }
    }
  ]
}